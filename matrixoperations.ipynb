{
 "cells": [
  {
   "cell_type": "code",
   "execution_count": null,
   "metadata": {
    "id": "Qfz7avGeakxW"
   },
   "outputs": [],
   "source": [
    "import numpy as np\n",
    "import matplotlib.pyplot as plt"
   ]
  },
  {
   "cell_type": "code",
   "execution_count": null,
   "metadata": {
    "colab": {
     "base_uri": "https://localhost:8080/"
    },
    "id": "CFYDzcS2dMGG",
    "outputId": "2b387e0a-275e-4bd7-930b-3162006e44da"
   },
   "outputs": [
    {
     "name": "stdout",
     "output_type": "stream",
     "text": [
      "Addition:\n",
      " [[ 6  8]\n",
      " [10 12]]\n",
      "Subtraction:\n",
      " [[-4 -4]\n",
      " [-4 -4]]\n",
      "Element-wise Multiplication:\n",
      " [[ 5 12]\n",
      " [21 32]]\n",
      "Matrix Multiplication:\n",
      " [[19 22]\n",
      " [43 50]]\n"
     ]
    }
   ],
   "source": [
    "import numpy as np\n",
    "\n",
    "# Define matrices\n",
    "A = np.array([[1, 2], [3, 4]])\n",
    "B = np.array([[5, 6], [7, 8]])\n",
    "\n",
    "# Addition\n",
    "addition = A + B\n",
    "print(\"Addition:\\n\", addition)\n",
    "\n",
    "# Subtraction\n",
    "subtraction = A - B\n",
    "print(\"Subtraction:\\n\", subtraction)\n",
    "\n",
    "# Multiplication (element-wise)\n",
    "elementwise_multiplication = A * B\n",
    "print(\"Element-wise Multiplication:\\n\", elementwise_multiplication)\n",
    "\n",
    "# Matrix Multiplication (dot product)\n",
    "matrix_multiplication = np.dot(A, B)\n",
    "print(\"Matrix Multiplication:\\n\", matrix_multiplication)\n"
   ]
  },
  {
   "cell_type": "code",
   "execution_count": null,
   "metadata": {
    "colab": {
     "base_uri": "https://localhost:8080/"
    },
    "id": "KVDyGiDUfAA-",
    "outputId": "83eb8eca-2cb4-4299-b2ab-3bfe736c4583"
   },
   "outputs": [
    {
     "name": "stdout",
     "output_type": "stream",
     "text": [
      "Transpose:\n",
      " [[1 3]\n",
      " [2 4]]\n"
     ]
    }
   ],
   "source": [
    "# Transpose of a matrix\n",
    "transpose = A.T\n",
    "print(\"Transpose:\\n\", transpose)\n"
   ]
  },
  {
   "cell_type": "code",
   "execution_count": null,
   "metadata": {
    "colab": {
     "base_uri": "https://localhost:8080/"
    },
    "id": "0EKkJa8XfPxF",
    "outputId": "2c999749-2cc8-44e1-9dfd-cf781a194f1d"
   },
   "outputs": [
    {
     "name": "stdout",
     "output_type": "stream",
     "text": [
      "Determinant\n",
      " -2.0000000000000004\n"
     ]
    }
   ],
   "source": [
    "# Determinant of a Matrix A\n",
    "det = np.linalg.det(A)\n",
    "print(\"Determinant\\n\", det)"
   ]
  },
  {
   "cell_type": "code",
   "execution_count": null,
   "metadata": {
    "colab": {
     "base_uri": "https://localhost:8080/"
    },
    "id": "RpS_28sefjKZ",
    "outputId": "a3a5f0e8-bd52-4db4-e4d6-818376054d35"
   },
   "outputs": [
    {
     "name": "stdout",
     "output_type": "stream",
     "text": [
      "Rank\n",
      " 2\n"
     ]
    }
   ],
   "source": [
    "# Rank of Matrix A\n",
    "# Find the number of linearly independent rows or columns in matrix\n",
    "rank = np.linalg.matrix_rank(A)\n",
    "print(\"Rank\\n\", rank)"
   ]
  },
  {
   "cell_type": "markdown",
   "metadata": {
    "id": "o8IXOGsjgi0u"
   },
   "source": [
    "Vector Normalization\n",
    "Definition:\n",
    "\n",
    "Vector normalization is the process of scaling a vector to have a length (or magnitude) of 1, while preserving its direction. This normalized vector is often referred to as a unit vector.\n",
    "\n",
    "Formula:\n",
    "\n",
    "Given a vector v = (v₁, v₂, ..., vₙ), its normalized form v̂ is calculated as follows:\n",
    "\n",
    "v̂ = v / ||v||\n",
    "\n",
    "where ||v|| represents the magnitude (or Euclidean norm) of the vector v, calculated as:\n",
    "\n",
    "||v|| = √(v₁² + v₂² + ... + vₙ²)\n",
    "\n",
    "Edge Cases:\n",
    "\n",
    "Zero Vector: If the input vector is a zero vector (all elements are 0), its magnitude is 0. In this case, normalization is undefined as it would involve division by zero. A common practice is to return the zero vector itself as the normalized vector in this scenario.\n",
    "\n",
    "Vectors with Very Small Magnitude: If the vector has a very small magnitude, normalization can lead to numerical instability due to potential division by a very small number. It's important to be aware of this and handle such cases appropriately, potentially by setting a threshold for the minimum magnitude before performing normalization.\n",
    "\n",
    "Example:\n",
    "\n",
    "Consider the vector v = (3, 4).\n",
    "\n",
    "Calculate the magnitude: ||v|| = √(3² + 4²) = 5\n",
    "\n",
    "Normalize the vector: v̂ = (3/5, 4/5) = (0.6, 0.8)\n",
    "\n",
    "The resulting vector v̂ has a magnitude of 1 and points in the same direction as the original vector v.\n",
    "\n",
    "Applications:\n",
    "\n",
    "Vector normalization is widely used in various fields, including:\n",
    "\n",
    "Computer Graphics: Normalizing vectors is crucial for lighting calculations and surface normals.\n",
    "Machine Learning: Normalizing features is often used to improve the performance of machine learning algorithms.\n",
    "Data Analysis: Normalization can be applied to datasets to bring variables to a common scale.\n",
    "Physics: Unit vectors are commonly used to represent directions, such as velocity and force."
   ]
  },
  {
   "cell_type": "code",
   "execution_count": null,
   "metadata": {
    "colab": {
     "base_uri": "https://localhost:8080/"
    },
    "id": "Mkpwx0JHfrqE",
    "outputId": "5d1053f7-feef-4e4b-d6e6-17dd9cf72b3f"
   },
   "outputs": [
    {
     "name": "stdout",
     "output_type": "stream",
     "text": [
      "Original Vector: [1 2 3]\n",
      "Normalized Vector: [0.26726124 0.53452248 0.80178373]\n",
      "Magnitude of normalized vector:  1.0\n"
     ]
    }
   ],
   "source": [
    "# prompt: What is vector normalization. give a pseudo code in the form of comments and then write code in python\n",
    "\n",
    "import numpy as np\n",
    "\n",
    "# Vector normalization pseudocode:\n",
    "#\n",
    "# Function normalize_vector(vector):\n",
    "#   # Calculate the magnitude (Euclidean norm) of the vector.\n",
    "#   # magnitude = sqrt(sum of squares of vector elements)\n",
    "#\n",
    "#   # Check if the magnitude is zero to prevent division by zero.\n",
    "#   # If magnitude is zero:\n",
    "#     # Return the zero vector (vector of the same shape with all elements as 0)\n",
    "#\n",
    "#   # Normalize each element of the vector by dividing it by its magnitude.\n",
    "#   # normalized_vector = vector / magnitude\n",
    "#\n",
    "#   # Return the normalized vector\n",
    "\n",
    "def normalize_vector(vector):\n",
    "  \"\"\"Normalizes a given vector.\n",
    "\n",
    "  Args:\n",
    "    vector: A NumPy array representing the vector.\n",
    "\n",
    "  Returns:\n",
    "    A NumPy array representing the normalized vector,\n",
    "    or a zero vector if the input vector has zero magnitude.\n",
    "  \"\"\"\n",
    "  magnitude = np.linalg.norm(vector)\n",
    "  if magnitude == 0:\n",
    "    return np.zeros_like(vector)\n",
    "  return vector / magnitude\n",
    "\n",
    "# Example usage\n",
    "vector = np.array([1, 2, 3])\n",
    "normalized_vector = normalize_vector(vector)\n",
    "print(\"Original Vector:\", vector)\n",
    "print(\"Normalized Vector:\", normalized_vector)\n",
    "\n",
    "#Verification\n",
    "print(\"Magnitude of normalized vector: \", np.linalg.norm(normalized_vector))"
   ]
  },
  {
   "cell_type": "code",
   "execution_count": null,
   "metadata": {
    "id": "ZJZ2YRZygd7n"
   },
   "outputs": [],
   "source": []
  }
 ],
 "metadata": {
  "colab": {
   "provenance": []
  },
  "kernelspec": {
   "display_name": "Python 3",
   "name": "python3"
  },
  "language_info": {
   "name": "python",
   "version": "3.13.1"
  }
 },
 "nbformat": 4,
 "nbformat_minor": 0
}
